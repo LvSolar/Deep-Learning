{
 "cells": [
  {
   "cell_type": "markdown",
   "source": [
    "## 下载数据集操作"
   ],
   "metadata": {
    "collapsed": false,
    "pycharm": {
     "name": "#%% md\n"
    }
   }
  },
  {
   "cell_type": "code",
   "execution_count": 5,
   "outputs": [],
   "source": [
    "import torchvision\n",
    "\n",
    "# 手写数字数据集。下载到data文件夹下\n",
    "train_set = torchvision.datasets.MNIST(root='./data', train=True, download=True)\n",
    "test_set = torchvision.datasets.MNIST(root='./data', train=False, download=True)"
   ],
   "metadata": {
    "collapsed": false,
    "pycharm": {
     "name": "#%%\n"
    }
   }
  },
  {
   "cell_type": "code",
   "execution_count": 9,
   "outputs": [],
   "source": [
    "# CIFAR-10数据集\n",
    "train_set = torchvision.datasets.CIFAR10(root='./data', train=True, download=True)\n",
    "test_set = torchvision.datasets.CIFAR10(root='./data', train=False, download=True)"
   ],
   "metadata": {
    "collapsed": false,
    "pycharm": {
     "name": "#%%\n"
    }
   }
  },
  {
   "cell_type": "markdown",
   "source": [
    "## 逻辑斯谛回归示例："
   ],
   "metadata": {
    "collapsed": false,
    "pycharm": {
     "name": "#%% md\n"
    }
   }
  },
  {
   "cell_type": "code",
   "execution_count": 14,
   "outputs": [
    {
     "name": "stdout",
     "output_type": "stream",
     "text": [
      "w= 4.402466297149658\n",
      "b= -10.868648529052734\n",
      "y_pred: 0.9988201260566711\n"
     ]
    }
   ],
   "source": [
    "import torch\n",
    "\n",
    "# 1、准备数据集（二分类）\n",
    "x_data = torch.tensor([[1.0], [1.5], [2.0], [3.0]])\n",
    "y_data = torch.tensor([[0.0], [0.0], [0.0], [1.0]])\n",
    "\n",
    "\n",
    "# 2、用类设计模型\n",
    "class LogisticRegressionModel(torch.nn.Module):\n",
    "    def __init__(self):\n",
    "        super(LogisticRegressionModel, self).__init__()\n",
    "        self.linear = torch.nn.Linear(1, 1)  # 输入维度为1，即特征数。输出维度为1\n",
    "        # nn.Linear类包含两个成员张量：weight和bias\n",
    "\n",
    "    def forward(self, x):  # 重写父类forward函数，不能少，每次传参时会自动调用该函数\n",
    "        y_pre = torch.sigmoid(self.linear(x))  # 传入x计算预测值y_pre\n",
    "        return y_pre\n",
    "\n",
    "\n",
    "model = LogisticRegressionModel()  # 实例化模型\n",
    "\n",
    "# 3、构造损失和优化器\n",
    "criterion = torch.nn.BCELoss(reduction='sum')  # 以二分类交叉熵作为损失衡量\n",
    "optimizer = torch.optim.SGD(model.parameters(), lr=0.01)\n",
    "\n",
    "# 4、训练\n",
    "for epoch in range(10000):\n",
    "    y_pred = model(x_data)\n",
    "    loss = criterion(y_pred, y_data)\n",
    "    # print(epoch, loss.item())\n",
    "\n",
    "    optimizer.zero_grad()\n",
    "    loss.backward()\n",
    "    optimizer.step()\n",
    "\n",
    "print('w=', model.linear.weight.item())\n",
    "print('b=', model.linear.bias.item())\n",
    "\n",
    "x_test = torch.tensor([[4.0]])\n",
    "y_test = model(x_test)\n",
    "print('y_pred:', y_test.data.item())"
   ],
   "metadata": {
    "collapsed": false,
    "pycharm": {
     "name": "#%%\n"
    }
   }
  },
  {
   "cell_type": "markdown",
   "source": [
    "如果进行10000轮更新，得出的参数如上。用此模型预测：当学习时间为4h时，考试通过的概率为0.9988。\n",
    "\n",
    "我们根据该模型，画出学习时间与考试通过概率之间的关系图像："
   ],
   "metadata": {
    "collapsed": false,
    "pycharm": {
     "name": "#%% md\n"
    }
   }
  },
  {
   "cell_type": "code",
   "execution_count": 32,
   "outputs": [
    {
     "data": {
      "text/plain": "<Figure size 432x288 with 1 Axes>",
      "image/png": "[encoded data removed]"
     },
     "metadata": {
      "needs_background": "light"
     },
     "output_type": "display_data"
    }
   ],
   "source": [
    "import numpy as np\n",
    "import matplotlib.pyplot as plt\n",
    "\n",
    "x = np.linspace(0, 10, 200)\n",
    "# 下面这行记得加 dtype=torch.float32，否则报错\n",
    "x_t = torch.tensor(x, dtype=torch.float32).view((200, 1))  # view用法跟reshape类似，转成(200,1)\n",
    "y_t = model(x_t)  # 根据训练出的模型得出不同学习时间下的考试通过概率\n",
    "y = y_t.data.numpy()  # 为了绘图，转成numpy类型\n",
    "plt.plot(x, y)\n",
    "plt.plot([0, 10], [0.5, 0.5], c='r')\n",
    "plt.xlabel('Hours')\n",
    "plt.ylabel('Probability of Pass Examination')\n",
    "plt.grid()\n",
    "plt.show()"
   ],
   "metadata": {
    "collapsed": false,
    "pycharm": {
     "name": "#%%\n"
    }
   }
  },
  {
   "cell_type": "code",
   "execution_count": null,
   "outputs": [],
   "source": [],
   "metadata": {
    "collapsed": false,
    "pycharm": {
     "name": "#%%\n"
    }
   }
  }
 ],
 "metadata": {
  "kernelspec": {
   "display_name": "Python 3",
   "language": "python",
   "name": "python3"
  },
  "language_info": {
   "codemirror_mode": {
    "name": "ipython",
    "version": 2
   },
   "file_extension": ".py",
   "mimetype": "text/x-python",
   "name": "python",
   "nbconvert_exporter": "python",
   "pygments_lexer": "ipython2",
   "version": "2.7.6"
  }
 },
 "nbformat": 4,
 "nbformat_minor": 0
}