{
 "cells": [
  {
   "cell_type": "code",
   "execution_count": 91,
   "outputs": [
    {
     "name": "stdout",
     "output_type": "stream",
     "text": [
      "data.shape: (759, 9)\n",
      "The minimum loss: 0.4665030241012573\n"
     ]
    },
    {
     "data": {
      "text/plain": "<Figure size 432x288 with 1 Axes>",
      "image/png": "[encoded data removed]"
     },
     "metadata": {
      "needs_background": "light"
     },
     "output_type": "display_data"
    }
   ],
   "source": [
    "import torch\n",
    "import numpy as np\n",
    "import matplotlib.pyplot as plt\n",
    "from sklearn.model_selection import train_test_split\n",
    "\n",
    "# 1、划分训练集和测试集。标签为二分类0 1\n",
    "data = np.loadtxt('../Data/diabetes.csv.gz', delimiter=',', dtype=np.float32)\n",
    "print(\"data.shape:\", data.shape)\n",
    "X_train, X_test, Y_train, Y_test = train_test_split(data[:, :-1], data[:, -1], test_size=0.3, random_state=46)\n",
    "x_train = torch.tensor(X_train)\n",
    "y_train = torch.tensor(Y_train).reshape(Y_train.shape[0], 1)  # 转成二维\n",
    "x_test = torch.tensor(X_test)\n",
    "y_test = torch.tensor(Y_test).reshape(Y_test.shape[0], 1)\n",
    "\n",
    "\n",
    "# 2、用类设计模型\n",
    "class Model(torch.nn.Module):\n",
    "    def __init__(self):\n",
    "        super(Model, self).__init__()\n",
    "        self.linear1 = torch.nn.Linear(8, 6)  # 输入维度为8，即特征数。输出维度为6\n",
    "        self.linear2 = torch.nn.Linear(6, 4)\n",
    "        self.linear3 = torch.nn.Linear(4, 1)\n",
    "        self.activate = torch.nn.Sigmoid()\n",
    "\n",
    "    def forward(self, x):\n",
    "        x = self.activate(self.linear1(x))\n",
    "        x = self.activate(self.linear2(x))\n",
    "        x = self.activate(self.linear3(x))  # 经过三层的变换\n",
    "        return x\n",
    "\n",
    "\n",
    "model = Model()\n",
    "\n",
    "# 3、构造损失和优化器\n",
    "criterion = torch.nn.BCELoss(reduction='mean')\n",
    "optimizer = torch.optim.SGD(model.parameters(), lr=0.01)\n",
    "\n",
    "loss_list = []\n",
    "# 4、用训练集训练模型\n",
    "for epoch in range(100000):\n",
    "    # Forward\n",
    "    y_pred = model(x_train)\n",
    "    loss = criterion(y_pred, y_train)\n",
    "    loss_list.append(loss.item())\n",
    "    # print(epoch, loss.item())\n",
    "\n",
    "    # Backward\n",
    "    optimizer.zero_grad()\n",
    "    loss.backward()\n",
    "\n",
    "    # Update\n",
    "    optimizer.step()\n",
    "\n",
    "print(\"The minimum loss:\", min(loss_list))\n",
    "plt.plot(loss_list)\n",
    "plt.grid()\n",
    "plt.xlabel('Epoch')\n",
    "plt.ylabel('Loss')\n",
    "plt.show()"
   ],
   "metadata": {
    "collapsed": false,
    "pycharm": {
     "name": "#%%\n"
    }
   }
  },
  {
   "cell_type": "markdown",
   "source": [
    "上面图像竟然是这样！刚开始epoch只随便设置几千，普普通通没啥意思。后面想着搞点大的，随着次数增多，损失在40000时附近迅速下降，神奇。同学们，探索精神懂不懂呀！\n",
    "\n",
    "接下来用我们上面训练好的模型来检验其在测试集上的表现："
   ],
   "metadata": {
    "collapsed": false,
    "pycharm": {
     "name": "#%% md\n"
    }
   }
  },
  {
   "cell_type": "code",
   "execution_count": 96,
   "outputs": [
    {
     "name": "stdout",
     "output_type": "stream",
     "text": [
      "0.8488888888888889\n"
     ]
    },
    {
     "data": {
      "text/plain": "<Figure size 432x288 with 1 Axes>",
      "image/png": "[encoded data removed]"
     },
     "metadata": {
      "needs_background": "light"
     },
     "output_type": "display_data"
    }
   ],
   "source": [
    "from sklearn.metrics import auc\n",
    "from sklearn.metrics import roc_curve\n",
    "import pandas as pd\n",
    "\n",
    "y_pred = pd.DataFrame(model(x_test).detach().numpy())\n",
    "fpr, tpr, thresholds = roc_curve(y_test.numpy(), y_pred, pos_label=1)\n",
    "print(auc(fpr, tpr))\n",
    "plt.plot(fpr, tpr, label='ROC (area = {0:.2f})'.format(auc(fpr, tpr)), lw=2)\n",
    "\n",
    "plt.xlim([-0.05, 1.05])  # 设置x、y轴的上下限，以免和边缘重合，更好地观察图像的整体\n",
    "plt.ylim([-0.05, 1.05])\n",
    "plt.xlabel('False Positive Rate')\n",
    "plt.ylabel('True Positive Rate')\n",
    "plt.title('ROC Curve')\n",
    "plt.legend(loc=4)\n",
    "plt.show()\n",
    "# 曲线下方面积越大，模型效果越好。关于ROC曲线涉及混淆矩阵，相关内容以后再补充。"
   ],
   "metadata": {
    "collapsed": false,
    "pycharm": {
     "name": "#%%\n"
    }
   }
  },
  {
   "cell_type": "code",
   "execution_count": 93,
   "outputs": [
    {
     "data": {
      "text/plain": "          0\n0  0.788377\n1  0.582527\n2  0.433012\n3  0.433163\n4  0.901173\n5  0.722548\n6  0.301493\n7  0.923470\n8  0.366946\n9  0.659431",
      "text/html": "<div>\n<style scoped>\n    .dataframe tbody tr th:only-of-type {\n        vertical-align: middle;\n    }\n\n    .dataframe tbody tr th {\n        vertical-align: top;\n    }\n\n    .dataframe thead th {\n        text-align: right;\n    }\n</style>\n<table border=\"1\" class=\"dataframe\">\n  <thead>\n    <tr style=\"text-align: right;\">\n      <th></th>\n      <th>0</th>\n    </tr>\n  </thead>\n  <tbody>\n    <tr>\n      <th>0</th>\n      <td>0.788377</td>\n    </tr>\n    <tr>\n      <th>1</th>\n      <td>0.582527</td>\n    </tr>\n    <tr>\n      <th>2</th>\n      <td>0.433012</td>\n    </tr>\n    <tr>\n      <th>3</th>\n      <td>0.433163</td>\n    </tr>\n    <tr>\n      <th>4</th>\n      <td>0.901173</td>\n    </tr>\n    <tr>\n      <th>5</th>\n      <td>0.722548</td>\n    </tr>\n    <tr>\n      <th>6</th>\n      <td>0.301493</td>\n    </tr>\n    <tr>\n      <th>7</th>\n      <td>0.923470</td>\n    </tr>\n    <tr>\n      <th>8</th>\n      <td>0.366946</td>\n    </tr>\n    <tr>\n      <th>9</th>\n      <td>0.659431</td>\n    </tr>\n  </tbody>\n</table>\n</div>"
     },
     "execution_count": 93,
     "metadata": {},
     "output_type": "execute_result"
    }
   ],
   "source": [
    "y_pred.head(10)  # 模型返回的是预测y=1的概率"
   ],
   "metadata": {
    "collapsed": false,
    "pycharm": {
     "name": "#%%\n"
    }
   }
  },
  {
   "cell_type": "code",
   "execution_count": 94,
   "outputs": [
    {
     "data": {
      "text/plain": "array([[1.],\n       [1.],\n       [1.],\n       [0.],\n       [1.],\n       [1.],\n       [0.],\n       [1.],\n       [0.],\n       [0.]], dtype=float32)"
     },
     "execution_count": 94,
     "metadata": {},
     "output_type": "execute_result"
    }
   ],
   "source": [
    "y_test.numpy()[:10]  # 真实值"
   ],
   "metadata": {
    "collapsed": false,
    "pycharm": {
     "name": "#%%\n"
    }
   }
  },
  {
   "cell_type": "code",
   "execution_count": null,
   "outputs": [],
   "source": [],
   "metadata": {
    "collapsed": false,
    "pycharm": {
     "name": "#%%\n"
    }
   }
  }
 ],
 "metadata": {
  "kernelspec": {
   "display_name": "Python 3",
   "language": "python",
   "name": "python3"
  },
  "language_info": {
   "codemirror_mode": {
    "name": "ipython",
    "version": 2
   },
   "file_extension": ".py",
   "mimetype": "text/x-python",
   "name": "python",
   "nbconvert_exporter": "python",
   "pygments_lexer": "ipython2",
   "version": "2.7.6"
  }
 },
 "nbformat": 4,
 "nbformat_minor": 0
}