{
 "cells": [
  {
   "cell_type": "markdown",
   "source": [
    "## 1 简单示例：批量梯度下降（每次更新参数要使用全部样本）"
   ],
   "metadata": {
    "collapsed": false,
    "pycharm": {
     "name": "#%% md\n"
    }
   }
  },
  {
   "cell_type": "code",
   "execution_count": 1,
   "outputs": [
    {
     "name": "stdout",
     "output_type": "stream",
     "text": [
      "Predict (before training) 4 4.0\n",
      "Epoch: 0 w= 1.195 loss= 9.75\n",
      "Epoch: 5 w= 1.7278707139849843 loss= 1.1142006805195201\n",
      "Epoch: 10 w= 1.9080070207365936 loss= 0.1273275032277088\n",
      "Epoch: 15 w= 1.9689018835213106 loss= 0.01455060417899115\n",
      "Epoch: 20 w= 1.9894873189642763 loss= 0.0016627992900720505\n",
      "Epoch: 25 w= 1.9964462007647763 loss= 0.0001900197026221195\n",
      "Epoch: 30 w= 1.9987986424241961 loss= 2.1714880202434718e-05\n",
      "Epoch: 35 w= 1.9995938825101214 loss= 2.481511210151131e-06\n",
      "Epoch: 40 w= 1.9998627124688708 loss= 2.8357963887877504e-07\n",
      "Epoch: 45 w= 1.9999535901145031 loss= 3.2406628371320974e-08\n",
      "Predict (after training) 4 7.999922043198923\n"
     ]
    },
    {
     "data": {
      "text/plain": "<Figure size 432x288 with 1 Axes>",
      "image/png": "[encoded data removed]"
     },
     "metadata": {
      "needs_background": "light"
     },
     "output_type": "display_data"
    }
   ],
   "source": [
    "import matplotlib.pyplot as plt\n",
    "\n",
    "x_data = [1.0, 2.0, 3.0, 5.0]\n",
    "y_data = [2.0, 4.0, 6.0, 10.0]\n",
    "\n",
    "w = 1.0\n",
    "\n",
    "\n",
    "def forward(x):\n",
    "    return x * w\n",
    "\n",
    "\n",
    "# 定义损失函数\n",
    "def cost(xs, ys):\n",
    "    cost = 0\n",
    "    for x, y in zip(xs, ys):\n",
    "        y_pred = forward(x)\n",
    "        cost += (y_pred - y) ** 2\n",
    "    return cost / len(xs)\n",
    "\n",
    "\n",
    "# 求解梯度\n",
    "def gradient(xs, ys):\n",
    "    grad = 0\n",
    "    for x, y in zip(xs, ys):\n",
    "        grad += 2 * x * (w * x - y)\n",
    "    return grad / len(xs)\n",
    "\n",
    "\n",
    "cost_list = []\n",
    "print('Predict (before training)', 4, forward(4))\n",
    "for epoch in range(50):\n",
    "    cost_val = cost(x_data, y_data)\n",
    "    cost_list.append(cost_val)\n",
    "    grad_val = gradient(x_data, y_data)\n",
    "    w -= 0.01 * grad_val  # 学习率为0.01\n",
    "    if epoch % 5 == 0:\n",
    "        print('Epoch:', epoch, 'w=', w, 'loss=', cost_val)\n",
    "print('Predict (after training)', 4, forward(4))\n",
    "plt.plot(cost_list)\n",
    "plt.xlabel('Epoch')\n",
    "plt.ylabel('Cost')\n",
    "plt.grid()\n",
    "plt.show()"
   ],
   "metadata": {
    "collapsed": false,
    "pycharm": {
     "name": "#%%\n"
    }
   }
  },
  {
   "cell_type": "markdown",
   "source": [
    "## 2 随机梯度下降（每次更新时只使用一个样本）"
   ],
   "metadata": {
    "collapsed": false,
    "pycharm": {
     "name": "#%% md\n"
    }
   }
  },
  {
   "cell_type": "code",
   "execution_count": 2,
   "outputs": [
    {
     "name": "stdout",
     "output_type": "stream",
     "text": [
      "Predict (before training) 4 4.0\n",
      "epoch: 0 w= 1.18 loss= 9.0\n",
      "epoch: 5 w= 1.5426556823039999 loss= 0.9884868852968803\n",
      "epoch: 10 w= 1.695150879788454 loss= 1.24389779126083\n",
      "epoch: 15 w= 1.7835463803035303 loss= 0.6271111322387505\n",
      "epoch: 20 w= 1.8792758133988885 loss= 0.195075792793724\n",
      "epoch: 25 w= 1.932667657621354 loss= 0.004720579269257838\n",
      "epoch: 30 w= 1.955118704788289 loss= 0.00951952107694123\n",
      "epoch: 35 w= 1.9700837578387946 loss= 0.0009318841576924996\n",
      "epoch: 40 w= 1.9810672817525319 loss= 0.00037322763456685545\n",
      "epoch: 45 w= 1.991164519276511 loss= 0.00036893062199973265\n",
      "Predict (after training) 4 7.9820725070851815\n"
     ]
    },
    {
     "data": {
      "text/plain": "<Figure size 432x288 with 1 Axes>",
      "image/png": "[encoded data removed]"
     },
     "metadata": {
      "needs_background": "light"
     },
     "output_type": "display_data"
    }
   ],
   "source": [
    "import matplotlib.pyplot as plt\n",
    "import numpy as np\n",
    "\n",
    "x_data = [1.0, 2.0, 3.0, 5.0]\n",
    "y_data = [2.0, 4.0, 6.0, 10.0]\n",
    "\n",
    "w = 1.0\n",
    "\n",
    "\n",
    "def forward(x):\n",
    "    return x * w\n",
    "\n",
    "\n",
    "# 定义损失函数\n",
    "def loss(x, y):\n",
    "    y_pred = forward(x)\n",
    "    return (y_pred - y) ** 2\n",
    "\n",
    "\n",
    "# 求解梯度\n",
    "def gradient(x, y):\n",
    "    return 2 * x * (w * x - y)\n",
    "\n",
    "\n",
    "cost_list = []\n",
    "print('Predict (before training)', 4, forward(4))\n",
    "for epoch in range(50):\n",
    "    r = np.random.randint(0, 3)\n",
    "    x = x_data[r]\n",
    "    y = y_data[r]\n",
    "    l = loss(x, y)\n",
    "    cost_list.append(l)\n",
    "    grad = gradient(x, y)\n",
    "    w -= 0.01 * grad\n",
    "    if epoch % 5 == 0:\n",
    "        print('epoch:', epoch, 'w=', w, 'loss=', l)\n",
    "print('Predict (after training)', 4, forward(4))\n",
    "plt.plot(cost_list)\n",
    "plt.xlabel('Epoch')\n",
    "plt.ylabel('Cost')\n",
    "plt.grid()\n",
    "plt.show()"
   ],
   "metadata": {
    "collapsed": false,
    "pycharm": {
     "name": "#%%\n"
    }
   }
  },
  {
   "cell_type": "markdown",
   "source": [
    "## 3 mini-batch梯度下降(每次使用m个样本。在深度学习中，比较常用)"
   ],
   "metadata": {
    "collapsed": false,
    "pycharm": {
     "name": "#%% md\n"
    }
   }
  },
  {
   "cell_type": "code",
   "execution_count": 3,
   "outputs": [
    {
     "name": "stdout",
     "output_type": "stream",
     "text": [
      "Predict (before training) 4 4.0\n",
      "Epoch: 0 w= 1.05 loss= 2.5\n",
      "Epoch: 5 w= 1.753508117 loss= 2.3711896752595427\n",
      "Epoch: 10 w= 1.9079420479016884 loss= 0.023475530594279842\n",
      "Epoch: 15 w= 1.9761141705706984 loss= 0.022265974306558252\n",
      "Epoch: 20 w= 1.9910792983741736 loss= 0.00022044021467318388\n",
      "Epoch: 25 w= 1.9976853889037567 loss= 0.00020908222441802307\n",
      "Epoch: 30 w= 1.9991355562916278 loss= 2.0699804015078535e-06\n",
      "Epoch: 35 w= 1.999775706992185 loss= 1.963326462418633e-06\n",
      "Epoch: 40 w= 1.9999162327184241 loss= 1.9437555298078516e-08\n",
      "Epoch: 45 w= 1.9999782653105584 loss= 1.8436052173972495e-08\n",
      "Predict (after training) 4 7.999965821853098\n"
     ]
    },
    {
     "data": {
      "text/plain": "<Figure size 432x288 with 1 Axes>",
      "image/png": "[encoded data removed]"
     },
     "metadata": {
      "needs_background": "light"
     },
     "output_type": "display_data"
    }
   ],
   "source": [
    "# 这里每次更新w时使用2个样本\n",
    "import matplotlib.pyplot as plt\n",
    "\n",
    "x_data = [1.0, 2.0, 3.0, 5.0]\n",
    "y_data = [2.0, 4.0, 6.0, 10.0]\n",
    "\n",
    "w = 1.0\n",
    "\n",
    "\n",
    "def forward(x):\n",
    "    return x * w\n",
    "\n",
    "\n",
    "# 定义损失函数\n",
    "def cost(xs, ys):\n",
    "    cost = 0\n",
    "    for x, y in zip(xs, ys):\n",
    "        y_pred = forward(x)\n",
    "        cost += (y_pred - y) ** 2\n",
    "    return cost / 2\n",
    "\n",
    "\n",
    "# 求解梯度\n",
    "def gradient(xs, ys):\n",
    "    grad = 0\n",
    "    for x, y in zip(xs, ys):\n",
    "        grad += 2 * x * (w * x - y)\n",
    "    return grad / 2\n",
    "\n",
    "\n",
    "i = 1\n",
    "cost_list = []\n",
    "print('Predict (before training)', 4, forward(4))\n",
    "for epoch in range(50):\n",
    "    if i % 2 == 1:\n",
    "        x = x_data[:2]\n",
    "        y = y_data[:2]\n",
    "    else:\n",
    "        x = x_data[2:]\n",
    "        y = y_data[2:]\n",
    "    i += 1\n",
    "    cost_val = cost(x, y)\n",
    "    cost_list.append(cost_val)\n",
    "    grad_val = gradient(x, y)\n",
    "    w -= 0.01 * grad_val  # 学习率为0.01\n",
    "    if epoch % 5 == 0:\n",
    "        print('Epoch:', epoch, 'w=', w, 'loss=', cost_val)\n",
    "print('Predict (after training)', 4, forward(4))\n",
    "plt.plot(cost_list)\n",
    "plt.xlabel('Epoch')\n",
    "plt.ylabel('Cost')\n",
    "plt.grid()\n",
    "plt.show()"
   ],
   "metadata": {
    "collapsed": false,
    "pycharm": {
     "name": "#%%\n"
    }
   }
  },
  {
   "cell_type": "code",
   "execution_count": null,
   "outputs": [],
   "source": [],
   "metadata": {
    "collapsed": false,
    "pycharm": {
     "name": "#%%\n"
    }
   }
  }
 ],
 "metadata": {
  "kernelspec": {
   "display_name": "Python 3",
   "language": "python",
   "name": "python3"
  },
  "language_info": {
   "codemirror_mode": {
    "name": "ipython",
    "version": 2
   },
   "file_extension": ".py",
   "mimetype": "text/x-python",
   "name": "python",
   "nbconvert_exporter": "python",
   "pygments_lexer": "ipython2",
   "version": "2.7.6"
  }
 },
 "nbformat": 4,
 "nbformat_minor": 0
}