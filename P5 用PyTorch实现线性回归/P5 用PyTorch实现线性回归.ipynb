{
 "cells": [
  {
   "cell_type": "markdown",
   "source": [
    "## 示例"
   ],
   "metadata": {
    "collapsed": false,
    "pycharm": {
     "name": "#%% md\n"
    }
   }
  },
  {
   "cell_type": "code",
   "execution_count": 113,
   "outputs": [
    {
     "name": "stdout",
     "output_type": "stream",
     "text": [
      "w= 1.9906320571899414\n",
      "b= 0.02129540964961052\n",
      "y_pred: 7.983823776245117\n"
     ]
    },
    {
     "data": {
      "text/plain": "<Figure size 432x288 with 1 Axes>",
      "image/png": "[encoded data removed]"
     },
     "metadata": {
      "needs_background": "light"
     },
     "output_type": "display_data"
    }
   ],
   "source": [
    "import numpy as np\n",
    "import torch\n",
    "import matplotlib.pyplot as plt\n",
    "\n",
    "x_data = torch.tensor([[1.0], [2.0], [3.0]])  # shape:(3,1)\n",
    "y_data = torch.tensor([[2.0], [4.0], [6.0]])  # (3,1)\n",
    "\n",
    "\n",
    "class LinearModel(torch.nn.Module):\n",
    "    def __init__(self):\n",
    "        super(LinearModel, self).__init__()\n",
    "        self.linear = torch.nn.Linear(1, 1)  # 输入维度为1，即特征数。输出维度为1\n",
    "        # nn.Linear类包含两个成员张量：weight和bias\n",
    "\n",
    "    def forward(self, x):  # 重写父类forward函数，不能少，每次传参时会自动调用该函数\n",
    "        y_pre = self.linear(x)  # 传入x计算预测值y_pre。\n",
    "        return y_pre\n",
    "\n",
    "\n",
    "model = LinearModel()  # 实例化模型\n",
    "\n",
    "criterion = torch.nn.MSELoss(reduction='sum')  # 评价标准为MSE\n",
    "optimizer = torch.optim.SGD(model.parameters(), lr=0.01)  # 随机梯度下降优化器，可以更新梯度以优化参数。学习率为0.01\n",
    "loss_list = []\n",
    "for epoch in range(400):\n",
    "    # 1、前向传播求y_pred\n",
    "    y_pred = model(x_data)  # 传入参数，自动调用类里面的forward函数。\n",
    "    # 对象后面直接加括号传参,可以理解为调用了__call__()函数,然后到forward，再到linear(x)\n",
    "    # 2、计算损失loss\n",
    "    loss = criterion(y_pred, y_data)\n",
    "    if epoch >= 50:\n",
    "        loss_list.append(loss.item())\n",
    "    # print(epoch, loss.item())\n",
    "\n",
    "    optimizer.zero_grad()\n",
    "    # 3、反向传播，计算出梯度\n",
    "    loss.backward()\n",
    "    # 4、更新参数w和b\n",
    "    optimizer.step()\n",
    "\n",
    "print('w=', model.linear.weight.item())\n",
    "print('b=', model.linear.bias.item())\n",
    "\n",
    "x_test = torch.tensor([[4.0]])\n",
    "y_test = model(x_test)\n",
    "print('y_pred:', y_test.data.item())\n",
    "plt.plot(range(50, 400), loss_list)\n",
    "plt.xlabel('Epoch')\n",
    "plt.ylabel('Cost')\n",
    "plt.title('SGD')\n",
    "plt.grid()\n",
    "plt.show()"
   ],
   "metadata": {
    "collapsed": false,
    "pycharm": {
     "name": "#%%\n"
    }
   }
  },
  {
   "cell_type": "code",
   "execution_count": null,
   "outputs": [],
   "source": [],
   "metadata": {
    "collapsed": false,
    "pycharm": {
     "name": "#%%\n"
    }
   }
  }
 ],
 "metadata": {
  "kernelspec": {
   "display_name": "Python 3",
   "language": "python",
   "name": "python3"
  },
  "language_info": {
   "codemirror_mode": {
    "name": "ipython",
    "version": 2
   },
   "file_extension": ".py",
   "mimetype": "text/x-python",
   "name": "python",
   "nbconvert_exporter": "python",
   "pygments_lexer": "ipython2",
   "version": "2.7.6"
  }
 },
 "nbformat": 4,
 "nbformat_minor": 0
}