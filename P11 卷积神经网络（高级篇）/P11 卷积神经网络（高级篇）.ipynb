{
 "cells": [
  {
   "cell_type": "markdown",
   "source": [
    "# 1 Inception Module"
   ],
   "metadata": {
    "collapsed": false,
    "pycharm": {
     "name": "#%% md\n"
    }
   }
  },
  {
   "cell_type": "markdown",
   "source": [
    "## 1.1 1×1卷积"
   ],
   "metadata": {
    "collapsed": false,
    "pycharm": {
     "name": "#%% md\n"
    }
   }
  },
  {
   "cell_type": "markdown",
   "source": [
    "## 1.2 完整代码"
   ],
   "metadata": {
    "collapsed": false,
    "pycharm": {
     "name": "#%% md\n"
    }
   }
  },
  {
   "cell_type": "code",
   "execution_count": 3,
   "outputs": [
    {
     "name": "stdout",
     "output_type": "stream",
     "text": [
      "[1,   300] loss: 0.950\n",
      "[1,   600] loss: 0.229\n",
      "[1,   900] loss: 0.170\n",
      "Accuracy on test set: 96 %\n",
      "[2,   300] loss: 0.123\n",
      "[2,   600] loss: 0.118\n",
      "[2,   900] loss: 0.098\n",
      "Accuracy on test set: 97 %\n",
      "[3,   300] loss: 0.083\n",
      "[3,   600] loss: 0.083\n",
      "[3,   900] loss: 0.078\n",
      "Accuracy on test set: 97 %\n",
      "[4,   300] loss: 0.070\n",
      "[4,   600] loss: 0.061\n",
      "[4,   900] loss: 0.065\n",
      "Accuracy on test set: 98 %\n",
      "[5,   300] loss: 0.055\n",
      "[5,   600] loss: 0.060\n",
      "[5,   900] loss: 0.058\n",
      "Accuracy on test set: 98 %\n",
      "[6,   300] loss: 0.052\n",
      "[6,   600] loss: 0.051\n",
      "[6,   900] loss: 0.050\n",
      "Accuracy on test set: 98 %\n",
      "[7,   300] loss: 0.043\n",
      "[7,   600] loss: 0.046\n",
      "[7,   900] loss: 0.048\n",
      "Accuracy on test set: 98 %\n",
      "[8,   300] loss: 0.042\n",
      "[8,   600] loss: 0.041\n",
      "[8,   900] loss: 0.045\n",
      "Accuracy on test set: 98 %\n",
      "[9,   300] loss: 0.036\n",
      "[9,   600] loss: 0.039\n",
      "[9,   900] loss: 0.041\n",
      "Accuracy on test set: 98 %\n",
      "[10,   300] loss: 0.030\n",
      "[10,   600] loss: 0.041\n",
      "[10,   900] loss: 0.038\n",
      "Accuracy on test set: 98 %\n"
     ]
    },
    {
     "data": {
      "text/plain": "<Figure size 432x288 with 1 Axes>",
      "image/png": "[encoded data removed]"
     },
     "metadata": {
      "needs_background": "light"
     },
     "output_type": "display_data"
    }
   ],
   "source": [
    "import torch\n",
    "import torch.nn.functional as F\n",
    "from torchvision import transforms\n",
    "from torchvision import datasets\n",
    "from torch.utils.data import DataLoader\n",
    "import matplotlib.pyplot as plt\n",
    "\n",
    "# 1、准备数据集\n",
    "batch_size = 64\n",
    "transform = transforms.Compose([  # 一系列的操作，Compose将其组合在一起\n",
    "    transforms.ToTensor(),  # 将图片转换为Tensor\n",
    "    transforms.Normalize((0.1307,), (0.3081,))  # 标准化到[0,1]，均值和方差\n",
    "])\n",
    "train_dataset = datasets.MNIST(root='../P6 逻辑斯谛回归/data', train=True,\n",
    "                               download=False,  # 在P6 逻辑斯谛回归中我已下载，这里不用下载了\n",
    "                               transform=transform)\n",
    "test_dataset = datasets.MNIST(root='../P6 逻辑斯谛回归/data', train=False, download=False, transform=transform)\n",
    "train_loader = DataLoader(dataset=train_dataset, batch_size=batch_size, shuffle=True)\n",
    "test_loader = DataLoader(dataset=test_dataset, batch_size=batch_size, shuffle=False)  # 测试集设置为False，方便观察结果\n",
    "\n",
    "\n",
    "# 2、设计模型\n",
    "\n",
    "# 2.1 设计Inception块\n",
    "class InceptionA(torch.nn.Module):\n",
    "    def __init__(self, in_channels):  #in_channels为输入通道数\n",
    "        super(InceptionA, self).__init__()\n",
    "        self.branch1x1 = torch.nn.Conv2d(in_channels, 16, kernel_size=1)  # 1x1卷积\n",
    "\n",
    "        self.branch5x5_1 = torch.nn.Conv2d(in_channels, 16, kernel_size=1)  # 1x1卷积\n",
    "        self.branch5x5_2 = torch.nn.Conv2d(16, 24, kernel_size=5, padding=2)  # 5x5卷积，padding=2保证输入输出大小一致\n",
    "\n",
    "        self.branch3x3_1 = torch.nn.Conv2d(in_channels, 16, kernel_size=1)  # 1x1卷积\n",
    "        self.branch3x3_2 = torch.nn.Conv2d(16, 24, kernel_size=3, padding=1)  # 3x3卷积，padding=1保证输入输出大小一致\n",
    "        self.branch3x3_3 = torch.nn.Conv2d(24, 24, kernel_size=3, padding=1)  # 3x3卷积\n",
    "\n",
    "        self.branch_pool = torch.nn.Conv2d(in_channels, 24, kernel_size=1)  # 1x1卷积\n",
    "\n",
    "    def forward(self, x):\n",
    "        branch1x1 = self.branch1x1(x)  # 1x1卷积处理\n",
    "\n",
    "        branch5x5 = self.branch5x5_1(x)\n",
    "        branch5x5 = self.branch5x5_2(branch5x5)  # 5x5卷积处理\n",
    "\n",
    "        branch3x3 = self.branch3x3_1(x)\n",
    "        branch3x3 = self.branch3x3_2(branch3x3)\n",
    "        branch3x3 = self.branch3x3_3(branch3x3)\n",
    "\n",
    "        # 最大池化torch.nn.MaxPool2d()是一个类，而这里的平均池化F.avg_pool2d()是一个函数\n",
    "        branch_pool = F.avg_pool2d(x, kernel_size=3, stride=1, padding=1)  # 平均池化处理,这里的padding=1,保证输入输出大小一致\n",
    "        branch_pool = self.branch_pool(branch_pool)\n",
    "\n",
    "        # 将四个分支的输出在通道维度上进行拼接\n",
    "        outputs = [branch1x1, branch5x5, branch3x3, branch_pool]\n",
    "        return torch.cat(outputs, dim=1)  # dim=1表示在通道维度上进行拼接\n",
    "\n",
    "\n",
    "# 2.2 设计网络\n",
    "class Net(torch.nn.Module):\n",
    "    def __init__(self):\n",
    "        super(Net, self).__init__()\n",
    "        # 卷积层\n",
    "        self.conv1 = torch.nn.Conv2d(1, 10, kernel_size=5)\n",
    "        self.conv2 = torch.nn.Conv2d(88, 20, kernel_size=5)  #这里的88是Inception块的输出通道数\n",
    "\n",
    "        # 实例化Inception块，返回结果为88通道，因为Inception块中有四个分支，每个分支输出通道数为16+24+24+24=88\n",
    "        self.incep1 = InceptionA(in_channels=10)\n",
    "        self.incep2 = InceptionA(in_channels=20)\n",
    "\n",
    "        self.mp = torch.nn.MaxPool2d(2)  # 池化层\n",
    "        self.l1 = torch.nn.Linear(1408, 10)  # 全连接层,不确定第一个参数为多少时，可以先随便写一个，然后运行程序，看报错信息\n",
    "\n",
    "    def forward(self, x):\n",
    "        # Flatten data from (n, 1, 28, 28) to (n, 784)\n",
    "        batch_size = x.size(0)  #获取batch_size,这里的batch_size=64\n",
    "        x = F.relu(self.mp(self.conv1(x)))  # 经过第一个卷积层+池化层+激活函数\n",
    "        x = self.incep1(x)  #经过第一个Inception块处理\n",
    "        x = F.relu(self.mp(self.conv2(x)))  # 经过第二个卷积层+池化层+激活函数\n",
    "        x = self.incep2(x)  #经过第二个Inception块处理\n",
    "        x = x.view(batch_size, -1)  # 将数据展平，方便全连接层处理\n",
    "        x = self.l1(x)  # 全连接层\n",
    "        return x\n",
    "\n",
    "\n",
    "model = Net()\n",
    "device = torch.device(\"cuda:0\" if torch.cuda.is_available() else \"cpu\")  # 判断是否有GPU加速\n",
    "model.to(device)  # 将模型放到GPU上\n",
    "\n",
    "# 3、构建损失和优化器\n",
    "criterion = torch.nn.CrossEntropyLoss()  # 交叉熵损失函数\n",
    "optimizer = torch.optim.SGD(model.parameters(), lr=0.01, momentum=0.5)  # 优化器,lr为学习率，momentum为动量\n",
    "\n",
    "\n",
    "# 4、训练和测试\n",
    "def train(epoch):\n",
    "    running_loss = 0.0\n",
    "    for batch_idx, data in enumerate(train_loader, 0):\n",
    "        inputs, labels = data\n",
    "        inputs, labels = inputs.to(device), labels.to(device)  # 将数据放到GPU上\n",
    "        optimizer.zero_grad()  # 梯度清零\n",
    "        # forward + backward + update\n",
    "        outputs = model(inputs)  # outputs并不是概率，而是线性层的输出，但其大小顺序与概率分布相同\n",
    "        loss = criterion(outputs, labels)\n",
    "        loss.backward()  # 反向传播\n",
    "        optimizer.step()  # 更新参数\n",
    "\n",
    "        running_loss += loss.item()\n",
    "        if batch_idx % 300 == 299:  # 每300个batch打印一次平均loss\n",
    "            print('[%d, %5d] loss: %.3f' % (epoch + 1, batch_idx + 1, running_loss / 300))\n",
    "            running_loss = 0.0\n",
    "\n",
    "\n",
    "def test():\n",
    "    correct = 0\n",
    "    total = 0\n",
    "    with torch.no_grad():  # 测试过程中不需要计算梯度\n",
    "        for data in test_loader:\n",
    "            images, labels = data\n",
    "            images, labels = images.to(device), labels.to(device)  # 将数据放到GPU上\n",
    "            outputs = model(images)\n",
    "            _, predicted = torch.max(outputs.data, dim=1)  # 返回每一行中最大值的那个元素，以及其索引\n",
    "            total += labels.size(0)  # labels的size为[64]，即64个样本\n",
    "            correct += (predicted == labels).sum().item()  # 统计预测正确的样本个数\n",
    "    accuracy = 100 * correct / total\n",
    "    accuracy_list.append(accuracy)\n",
    "    print('Accuracy on test set: %d %%' % accuracy)\n",
    "\n",
    "\n",
    "if __name__ == '__main__':\n",
    "    accuracy_list = []\n",
    "    for epoch in range(10):\n",
    "        train(epoch)\n",
    "        test()\n",
    "    plt.plot(accuracy_list)\n",
    "    plt.xlabel('epoch')\n",
    "    plt.ylabel('accuracy')\n",
    "    plt.grid()\n",
    "    plt.show()"
   ],
   "metadata": {
    "collapsed": false,
    "pycharm": {
     "name": "#%%\n"
    }
   }
  },
  {
   "cell_type": "markdown",
   "source": [
    "从图像可以看出，在epoch为10时，**模型的准确率已经非常接近99%，并且还有上升的趋势**，说明Inception块的引入使得模型的预测能力更强了。"
   ],
   "metadata": {
    "collapsed": false,
    "pycharm": {
     "name": "#%% md\n"
    }
   }
  },
  {
   "cell_type": "markdown",
   "source": [
    "# 2 残差网络(Residual Network)"
   ],
   "metadata": {
    "collapsed": false,
    "pycharm": {
     "name": "#%% md\n"
    }
   }
  },
  {
   "cell_type": "code",
   "execution_count": 1,
   "outputs": [
    {
     "name": "stdout",
     "output_type": "stream",
     "text": [
      "[1,   300] loss: 0.525\n",
      "[1,   600] loss: 0.151\n",
      "[1,   900] loss: 0.108\n",
      "Accuracy on test set: 97 %\n",
      "[2,   300] loss: 0.093\n",
      "[2,   600] loss: 0.069\n",
      "[2,   900] loss: 0.074\n",
      "Accuracy on test set: 98 %\n",
      "[3,   300] loss: 0.063\n",
      "[3,   600] loss: 0.060\n",
      "[3,   900] loss: 0.055\n",
      "Accuracy on test set: 98 %\n",
      "[4,   300] loss: 0.050\n",
      "[4,   600] loss: 0.049\n",
      "[4,   900] loss: 0.044\n",
      "Accuracy on test set: 98 %\n",
      "[5,   300] loss: 0.043\n",
      "[5,   600] loss: 0.036\n",
      "[5,   900] loss: 0.043\n",
      "Accuracy on test set: 98 %\n",
      "[6,   300] loss: 0.035\n",
      "[6,   600] loss: 0.034\n",
      "[6,   900] loss: 0.036\n",
      "Accuracy on test set: 98 %\n",
      "[7,   300] loss: 0.031\n",
      "[7,   600] loss: 0.032\n",
      "[7,   900] loss: 0.032\n",
      "Accuracy on test set: 99 %\n",
      "[8,   300] loss: 0.027\n",
      "[8,   600] loss: 0.029\n",
      "[8,   900] loss: 0.029\n",
      "Accuracy on test set: 99 %\n",
      "[9,   300] loss: 0.023\n",
      "[9,   600] loss: 0.025\n",
      "[9,   900] loss: 0.028\n",
      "Accuracy on test set: 99 %\n",
      "[10,   300] loss: 0.024\n",
      "[10,   600] loss: 0.021\n",
      "[10,   900] loss: 0.023\n",
      "Accuracy on test set: 98 %\n"
     ]
    },
    {
     "data": {
      "text/plain": "<Figure size 432x288 with 1 Axes>",
      "image/png": "[encoded data removed]"
     },
     "metadata": {
      "needs_background": "light"
     },
     "output_type": "display_data"
    }
   ],
   "source": [
    "import torch\n",
    "import torch.nn.functional as F\n",
    "from torchvision import transforms\n",
    "from torchvision import datasets\n",
    "from torch.utils.data import DataLoader\n",
    "import matplotlib.pyplot as plt\n",
    "\n",
    "# 1、准备数据集\n",
    "batch_size = 64\n",
    "transform = transforms.Compose([transforms.ToTensor(), transforms.Normalize((0.1307,), (0.3081,))])\n",
    "train_dataset = datasets.MNIST(root='../P6 逻辑斯谛回归/data', train=True, download=False, transform=transform)\n",
    "test_dataset = datasets.MNIST(root='../P6 逻辑斯谛回归/data', train=False, download=False, transform=transform)\n",
    "train_loader = DataLoader(dataset=train_dataset, batch_size=batch_size, shuffle=True)\n",
    "test_loader = DataLoader(dataset=test_dataset, batch_size=batch_size, shuffle=False)  # 测试集设置为False，方便观察结果\n",
    "\n",
    "\n",
    "# 2、设计模型\n",
    "# 2.1 残差块\n",
    "class ResidualBlock(torch.nn.Module):\n",
    "    def __init__(self, channels):\n",
    "        super(ResidualBlock, self).__init__()\n",
    "        self.channels = channels\n",
    "        # 定义两个卷积层,卷积核大小为3，padding=1保证输入输出大小一致,输入输出通道数一致，目的保证维度一致，能将输入与输出相加\n",
    "        self.conv1 = torch.nn.Conv2d(channels, channels, kernel_size=3, padding=1)\n",
    "        self.conv2 = torch.nn.Conv2d(channels, channels, kernel_size=3, padding=1)\n",
    "\n",
    "    def forward(self, x):\n",
    "        y = F.relu(self.conv1(x))  # 第一个卷积层+激活函数\n",
    "        y = self.conv2(y)  # 第二个卷积层+激活函数\n",
    "        return F.relu(x + y)  # 将输入与输出相加，再经过激活函数\n",
    "\n",
    "\n",
    "# 2.2 设计网络\n",
    "class Net(torch.nn.Module):\n",
    "    def __init__(self):\n",
    "        super(Net, self).__init__()\n",
    "        # 卷积层\n",
    "        self.conv1 = torch.nn.Conv2d(1, 16, kernel_size=5)\n",
    "        self.conv2 = torch.nn.Conv2d(16, 32, kernel_size=5)\n",
    "\n",
    "        # 残差块\n",
    "        self.res1 = ResidualBlock(16)\n",
    "        self.res2 = ResidualBlock(32)\n",
    "\n",
    "        self.mp = torch.nn.MaxPool2d(2)  # 最大池化层\n",
    "        self.l1 = torch.nn.Linear(512, 10)  # 全连接层,不确定第一个参数为多少时，可以先随便写一个，然后运行程序，看报错信息\n",
    "\n",
    "    def forward(self, x):\n",
    "        # Flatten data from (n, 1, 28, 28) to (n, 784)\n",
    "        batch_size = x.size(0)  #获取batch_size,这里的batch_size=64\n",
    "        x = self.mp(F.relu(self.conv1(x)))  # 经过第一个卷积层+激活函数+池化层\n",
    "        x = self.res1(x)  #经过第一个残差块处理\n",
    "        x = self.mp(F.relu(self.conv2(x)))  # 经过第二个卷积层+激活函数+池化层\n",
    "        x = self.res2(x)  #经过第二个Inception块处理\n",
    "        x = x.view(batch_size, -1)  # 将数据展平，方便全连接层处理\n",
    "        x = self.l1(x)  # 全连接层\n",
    "        return x\n",
    "\n",
    "\n",
    "model = Net()\n",
    "device = torch.device(\"cuda:0\" if torch.cuda.is_available() else \"cpu\")  # 判断是否有GPU加速\n",
    "model.to(device)  # 将模型放到GPU上\n",
    "\n",
    "# 3、构建损失和优化器\n",
    "criterion = torch.nn.CrossEntropyLoss()  # 交叉熵损失函数\n",
    "optimizer = torch.optim.SGD(model.parameters(), lr=0.01, momentum=0.5)  # 优化器,lr为学习率，momentum为动量\n",
    "\n",
    "\n",
    "# 4、训练和测试\n",
    "def train(epoch):\n",
    "    running_loss = 0.0\n",
    "    for batch_idx, data in enumerate(train_loader, 0):\n",
    "        inputs, labels = data\n",
    "        inputs, labels = inputs.to(device), labels.to(device)  # 将数据放到GPU上\n",
    "        optimizer.zero_grad()  # 梯度清零\n",
    "        # forward + backward + update\n",
    "        outputs = model(inputs)  # outputs并不是概率，而是线性层的输出，但其大小顺序与概率分布相同\n",
    "        loss = criterion(outputs, labels)\n",
    "        loss.backward()  # 反向传播\n",
    "        optimizer.step()  # 更新参数\n",
    "\n",
    "        running_loss += loss.item()\n",
    "        if batch_idx % 300 == 299:  # 每300个batch打印一次平均loss\n",
    "            print('[%d, %5d] loss: %.3f' % (epoch + 1, batch_idx + 1, running_loss / 300))\n",
    "            running_loss = 0.0\n",
    "\n",
    "\n",
    "def test():\n",
    "    correct = 0\n",
    "    total = 0\n",
    "    with torch.no_grad():  # 测试过程中不需要计算梯度\n",
    "        for data in test_loader:\n",
    "            images, labels = data\n",
    "            images, labels = images.to(device), labels.to(device)  # 将数据放到GPU上\n",
    "            outputs = model(images)\n",
    "            _, predicted = torch.max(outputs.data, dim=1)  # 返回每一行中最大值的那个元素，以及其索引\n",
    "            total += labels.size(0)  # labels的size为[64]，即64个样本\n",
    "            correct += (predicted == labels).sum().item()  # 统计预测正确的样本个数\n",
    "    accuracy = 100 * correct / total\n",
    "    accuracy_list.append(accuracy)\n",
    "    print('Accuracy on test set: %d %%' % accuracy)\n",
    "\n",
    "\n",
    "if __name__ == '__main__':\n",
    "    accuracy_list = []\n",
    "    for epoch in range(10):\n",
    "        train(epoch)\n",
    "        test()\n",
    "    plt.plot(accuracy_list)\n",
    "    plt.xlabel('epoch')\n",
    "    plt.ylabel('accuracy')\n",
    "    plt.grid()\n",
    "    plt.show()"
   ],
   "metadata": {
    "collapsed": false,
    "pycharm": {
     "name": "#%%\n"
    }
   }
  },
  {
   "cell_type": "code",
   "execution_count": null,
   "outputs": [],
   "source": [],
   "metadata": {
    "collapsed": false,
    "pycharm": {
     "name": "#%%\n"
    }
   }
  }
 ],
 "metadata": {
  "kernelspec": {
   "display_name": "Python 3",
   "language": "python",
   "name": "python3"
  },
  "language_info": {
   "codemirror_mode": {
    "name": "ipython",
    "version": 2
   },
   "file_extension": ".py",
   "mimetype": "text/x-python",
   "name": "python",
   "nbconvert_exporter": "python",
   "pygments_lexer": "ipython2",
   "version": "2.7.6"
  }
 },
 "nbformat": 4,
 "nbformat_minor": 0
}