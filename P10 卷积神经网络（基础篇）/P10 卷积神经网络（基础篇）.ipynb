{
 "cells": [
  {
   "cell_type": "markdown",
   "source": [
    "# 1 卷积与池化"
   ],
   "metadata": {
    "collapsed": false,
    "pycharm": {
     "name": "#%% md\n"
    }
   }
  },
  {
   "cell_type": "markdown",
   "source": [
    "# 1.1 torch.nn.Conv2d形状参数"
   ],
   "metadata": {
    "collapsed": false,
    "pycharm": {
     "name": "#%% md\n"
    }
   }
  },
  {
   "cell_type": "code",
   "execution_count": 9,
   "outputs": [
    {
     "name": "stdout",
     "output_type": "stream",
     "text": [
      "torch.Size([1, 5, 100, 100])\n",
      "torch.Size([1, 10, 98, 98])\n",
      "torch.Size([10, 5, 3, 3])\n"
     ]
    }
   ],
   "source": [
    "import torch\n",
    "\n",
    "in_channels, out_channels, kernel_size = 5, 10, 3\n",
    "width, height = 100, 100\n",
    "batch_size = 1\n",
    "\n",
    "input = torch.randn(batch_size, in_channels, width, height)  #输入数据,1*5*100*100,随机数,均值为0,方差为1,正态分布\n",
    "conv = torch.nn.Conv2d(in_channels, out_channels, kernel_size)  #卷积层,输入通道数5,输出通道数10,卷积核大小3*3\n",
    "output = conv(input)  #进行卷积运算\n",
    "print(input.shape)\n",
    "print(output.shape)\n",
    "print(conv.weight.shape)  #10个卷积核，每个卷积核的形状为5*3*3"
   ],
   "metadata": {
    "collapsed": false,
    "pycharm": {
     "name": "#%%\n"
    }
   }
  },
  {
   "cell_type": "markdown",
   "source": [
    "## 1.2 填充：padding"
   ],
   "metadata": {
    "collapsed": false,
    "pycharm": {
     "name": "#%% md\n"
    }
   }
  },
  {
   "cell_type": "markdown",
   "source": [
    "通过设置参数padding=1（即在输入数据外填充1圈0），使输出的结果为1 * 1 * 5 * 5,与输入的形状一致"
   ],
   "metadata": {
    "collapsed": false,
    "pycharm": {
     "name": "#%% md\n"
    }
   }
  },
  {
   "cell_type": "code",
   "execution_count": 19,
   "outputs": [
    {
     "name": "stdout",
     "output_type": "stream",
     "text": [
      "tensor([[[[ 91., 168., 224., 215., 127.],\n",
      "          [114., 211., 295., 262., 149.],\n",
      "          [192., 259., 282., 214., 122.],\n",
      "          [194., 251., 253., 169.,  86.],\n",
      "          [ 96., 112., 110.,  68.,  31.]]]], grad_fn=<ConvolutionBackward0>)\n"
     ]
    }
   ],
   "source": [
    "import torch\n",
    "\n",
    "input = [3, 4, 6, 5, 7,\n",
    "         2, 4, 6, 8, 2,\n",
    "         1, 6, 7, 8, 4,\n",
    "         9, 7, 4, 6, 2,\n",
    "         3, 7, 5, 4, 1]\n",
    "input = torch.tensor(input, dtype=torch.float).view(1, 1, 5, 5)\n",
    "conv_layer = torch.nn.Conv2d(1, 1, kernel_size=3, padding=1, bias=False)  #padding=1,卷积核大小3*3,输入通道数1,输出通道数1\n",
    "kernel = torch.tensor([1, 2, 3, 4, 5, 6, 7, 8, 9], dtype=torch.float).view(1, 1, 3, 3)\n",
    "conv_layer.weight.data = kernel.data  #卷积核的值\n",
    "\n",
    "output = conv_layer(input)\n",
    "print(output)"
   ],
   "metadata": {
    "collapsed": false,
    "pycharm": {
     "name": "#%%\n"
    }
   }
  },
  {
   "cell_type": "markdown",
   "source": [
    "## 1.3 步长：stride\n"
   ],
   "metadata": {
    "collapsed": false,
    "pycharm": {
     "name": "#%% md\n"
    }
   }
  },
  {
   "cell_type": "code",
   "execution_count": 20,
   "outputs": [
    {
     "name": "stdout",
     "output_type": "stream",
     "text": [
      "tensor([[[[211., 262.],\n",
      "          [251., 169.]]]], grad_fn=<ConvolutionBackward0>)\n"
     ]
    }
   ],
   "source": [
    "import torch\n",
    "\n",
    "input = [3, 4, 6, 5, 7,\n",
    "         2, 4, 6, 8, 2,\n",
    "         1, 6, 7, 8, 4,\n",
    "         9, 7, 4, 6, 2,\n",
    "         3, 7, 5, 4, 1]\n",
    "input = torch.tensor(input, dtype=torch.float).view(1, 1, 5, 5)\n",
    "conv_layer = torch.nn.Conv2d(1, 1, kernel_size=3, stride=2, bias=False)  #stride=2,卷积核大小3*3,输入通道数1,输出通道数1\n",
    "kernel = torch.tensor([1, 2, 3, 4, 5, 6, 7, 8, 9], dtype=torch.float).view(1, 1, 3, 3)\n",
    "conv_layer.weight.data = kernel.data  #卷积核的值\n",
    "\n",
    "output = conv_layer(input)\n",
    "print(output)"
   ],
   "metadata": {
    "collapsed": false,
    "pycharm": {
     "name": "#%%\n"
    }
   }
  },
  {
   "cell_type": "markdown",
   "source": [
    "# 2 池化层"
   ],
   "metadata": {
    "collapsed": false,
    "pycharm": {
     "name": "#%% md\n"
    }
   }
  },
  {
   "cell_type": "code",
   "execution_count": 23,
   "outputs": [
    {
     "name": "stdout",
     "output_type": "stream",
     "text": [
      "tensor([[[[4., 8.],\n",
      "          [9., 7.]]]])\n"
     ]
    }
   ],
   "source": [
    "import torch\n",
    "\n",
    "input = [3, 4, 6, 5,\n",
    "         2, 4, 6, 8,\n",
    "         1, 6, 7, 5,\n",
    "         9, 7, 4, 6]\n",
    "input = torch.tensor(input, dtype=torch.float).view(1, 1, 4, 4)\n",
    "maxpooling_layer = torch.nn.MaxPool2d(kernel_size=2)  #池化层,池化核大小2*2,步长默认为池化核大小\n",
    "output = maxpooling_layer(input)\n",
    "print(output)"
   ],
   "metadata": {
    "collapsed": false,
    "pycharm": {
     "name": "#%%\n"
    }
   }
  },
  {
   "cell_type": "markdown",
   "source": [
    "# 3 手写数字识别"
   ],
   "metadata": {
    "collapsed": false,
    "pycharm": {
     "name": "#%% md\n"
    }
   }
  },
  {
   "cell_type": "code",
   "execution_count": 24,
   "outputs": [
    {
     "name": "stdout",
     "output_type": "stream",
     "text": [
      "[1,   300] loss: 0.577\n",
      "[1,   600] loss: 0.192\n",
      "[1,   900] loss: 0.127\n",
      "Accuracy on test set: 97 %\n",
      "[2,   300] loss: 0.113\n",
      "[2,   600] loss: 0.094\n",
      "[2,   900] loss: 0.087\n",
      "Accuracy on test set: 97 %\n",
      "[3,   300] loss: 0.084\n",
      "[3,   600] loss: 0.077\n",
      "[3,   900] loss: 0.068\n",
      "Accuracy on test set: 97 %\n",
      "[4,   300] loss: 0.066\n",
      "[4,   600] loss: 0.062\n",
      "[4,   900] loss: 0.061\n",
      "Accuracy on test set: 98 %\n",
      "[5,   300] loss: 0.052\n",
      "[5,   600] loss: 0.055\n",
      "[5,   900] loss: 0.057\n",
      "Accuracy on test set: 98 %\n",
      "[6,   300] loss: 0.050\n",
      "[6,   600] loss: 0.051\n",
      "[6,   900] loss: 0.048\n",
      "Accuracy on test set: 98 %\n",
      "[7,   300] loss: 0.045\n",
      "[7,   600] loss: 0.046\n",
      "[7,   900] loss: 0.045\n",
      "Accuracy on test set: 98 %\n",
      "[8,   300] loss: 0.040\n",
      "[8,   600] loss: 0.043\n",
      "[8,   900] loss: 0.042\n",
      "Accuracy on test set: 98 %\n",
      "[9,   300] loss: 0.035\n",
      "[9,   600] loss: 0.041\n",
      "[9,   900] loss: 0.040\n",
      "Accuracy on test set: 98 %\n",
      "[10,   300] loss: 0.038\n",
      "[10,   600] loss: 0.033\n",
      "[10,   900] loss: 0.038\n",
      "Accuracy on test set: 98 %\n"
     ]
    },
    {
     "data": {
      "text/plain": "<Figure size 432x288 with 1 Axes>",
      "image/png": "[encoded data removed]"
     },
     "metadata": {
      "needs_background": "light"
     },
     "output_type": "display_data"
    }
   ],
   "source": [
    "import torch\n",
    "import torch.nn.functional as F\n",
    "from torchvision import transforms\n",
    "from torchvision import datasets\n",
    "from torch.utils.data import DataLoader\n",
    "import matplotlib.pyplot as plt\n",
    "\n",
    "# 1、准备数据集\n",
    "batch_size = 64\n",
    "transform = transforms.Compose([  # 一系列的操作，Compose将其组合在一起\n",
    "    transforms.ToTensor(),  # 将图片转换为Tensor\n",
    "    transforms.Normalize((0.1307,), (0.3081,))  # 标准化到[0,1]，均值和方差\n",
    "])\n",
    "train_dataset = datasets.MNIST(root='../P6 逻辑斯谛回归/data',\n",
    "                               train=True,\n",
    "                               download=False,  # 在P6 逻辑斯谛回归中我已下载，这里直接读取即可\n",
    "                               transform=transform)\n",
    "test_dataset = datasets.MNIST(root='../P6 逻辑斯谛回归/data',\n",
    "                              train=False,\n",
    "                              download=False,\n",
    "                              transform=transform)\n",
    "train_loader = DataLoader(dataset=train_dataset,\n",
    "                          batch_size=batch_size,\n",
    "                          shuffle=True)\n",
    "test_loader = DataLoader(dataset=test_dataset,\n",
    "                         batch_size=batch_size,\n",
    "                         shuffle=False)  # 测试集设置为False，方便观察结果\n",
    "\n",
    "\n",
    "# 2、设计模型\n",
    "class Net(torch.nn.Module):\n",
    "    def __init__(self):\n",
    "        super(Net, self).__init__()\n",
    "        self.conv1 = torch.nn.Conv2d(1, 10, kernel_size=5)  # 第一个卷积层\n",
    "        self.conv2 = torch.nn.Conv2d(10, 20, kernel_size=5)  # 第二个卷积层\n",
    "        self.mp = torch.nn.MaxPool2d(2)  # 池化层\n",
    "        self.l1 = torch.nn.Linear(320, 10)  # 全连接层\n",
    "\n",
    "    def forward(self, x):\n",
    "        # Flatten data from (n, 1, 28, 28) to (n, 784)\n",
    "        batch_size = x.size(0)  #获取batch_size,这里的batch_size=64\n",
    "        x = F.relu(self.mp(self.conv1(x)))  # 第一个卷积层+池化层+激活函数\n",
    "        x = F.relu(self.mp(self.conv2(x)))  # 第二个卷积层+池化层+激活函数\n",
    "        x = x.view(batch_size, -1)  # 将数据展平，方便全连接层处理\n",
    "        x = self.l1(x)  # 全连接层\n",
    "        return x\n",
    "\n",
    "\n",
    "model = Net()\n",
    "device = torch.device(\"cuda:0\" if torch.cuda.is_available() else \"cpu\")  # 判断是否有GPU加速\n",
    "model.to(device)  # 将模型放到GPU上\n",
    "\n",
    "# 3、构建损失和优化器\n",
    "criterion = torch.nn.CrossEntropyLoss()  # 交叉熵损失函数\n",
    "optimizer = torch.optim.SGD(model.parameters(), lr=0.01, momentum=0.5)  # 优化器,lr为学习率，momentum为动量\n",
    "\n",
    "\n",
    "# 4、训练和测试\n",
    "def train(epoch):\n",
    "    running_loss = 0.0\n",
    "    for batch_idx, data in enumerate(train_loader, 0):\n",
    "        inputs, labels = data\n",
    "        inputs, labels = inputs.to(device), labels.to(device)  # 将数据放到GPU上\n",
    "        optimizer.zero_grad()  # 梯度清零\n",
    "        # forward + backward + update\n",
    "        outputs = model(inputs)  # outputs并不是概率，而是线性层的输出，但其大小顺序与概率分布相同\n",
    "        loss = criterion(outputs, labels)\n",
    "        loss.backward()  # 反向传播\n",
    "        optimizer.step()  # 更新参数\n",
    "\n",
    "        running_loss += loss.item()\n",
    "        if batch_idx % 300 == 299:  # 每300个batch打印一次平均loss\n",
    "            print('[%d, %5d] loss: %.3f' % (epoch + 1, batch_idx + 1, running_loss / 300))\n",
    "            running_loss = 0.0\n",
    "\n",
    "\n",
    "def test():\n",
    "    correct = 0\n",
    "    total = 0\n",
    "    with torch.no_grad():  # 测试过程中不需要计算梯度\n",
    "        for data in test_loader:\n",
    "            images, labels = data\n",
    "            images, labels = images.to(device), labels.to(device)  # 将数据放到GPU上\n",
    "            outputs = model(images)\n",
    "            _, predicted = torch.max(outputs.data, dim=1)  # 返回每一行中最大值的那个元素，以及其索引\n",
    "            total += labels.size(0)  # labels的size为[64]，即64个样本\n",
    "            correct += (predicted == labels).sum().item()  # 统计预测正确的样本个数\n",
    "    accuracy = 100 * correct / total\n",
    "    accuracy_list.append(accuracy)\n",
    "    print('Accuracy on test set: %d %%' % accuracy)\n",
    "\n",
    "\n",
    "if __name__ == '__main__':\n",
    "    accuracy_list = []\n",
    "    for epoch in range(10):\n",
    "        train(epoch)\n",
    "        test()\n",
    "    plt.plot(accuracy_list)\n",
    "    plt.xlabel('epoch')\n",
    "    plt.ylabel('accuracy')\n",
    "    plt.grid()\n",
    "    plt.show()"
   ],
   "metadata": {
    "collapsed": false,
    "pycharm": {
     "name": "#%%\n"
    }
   }
  },
  {
   "cell_type": "code",
   "execution_count": null,
   "outputs": [],
   "source": [],
   "metadata": {
    "collapsed": false,
    "pycharm": {
     "name": "#%%\n"
    }
   }
  }
 ],
 "metadata": {
  "kernelspec": {
   "display_name": "Python 3",
   "language": "python",
   "name": "python3"
  },
  "language_info": {
   "codemirror_mode": {
    "name": "ipython",
    "version": 2
   },
   "file_extension": ".py",
   "mimetype": "text/x-python",
   "name": "python",
   "nbconvert_exporter": "python",
   "pygments_lexer": "ipython2",
   "version": "2.7.6"
  }
 },
 "nbformat": 4,
 "nbformat_minor": 0
}